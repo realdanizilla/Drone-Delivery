{
 "cells": [
  {
   "cell_type": "code",
   "execution_count": 9,
   "metadata": {},
   "outputs": [],
   "source": [
    "# Importing Libraries\n",
    "\n",
    "import numpy as np\n",
    "import pandas as pd\n",
    "from scipy.spatial import distance\n",
    "\n"
   ]
  },
  {
   "cell_type": "code",
   "execution_count": 10,
   "metadata": {},
   "outputs": [],
   "source": [
    "# creating an array with X coordinates of each city in relation to Willowford\n",
    "x_axis = np.array([0., 0.18078584, 9.32526599, 17.09628721,\n",
    "                      4.69820241, 11.57529305, 11.31769349, 14.63378951])\n",
    "\n",
    "# creating an array with y coordinates of each city in relation to Willowford\n",
    "y_axis  = np.array([0.0, 7.03050245, 9.06193657, 0.1718145,\n",
    "                      5.1383203, 0.11069032, 3.27703365, 5.36870287])\n",
    "\n",
    "\n",
    "# creating an array with the number of deliveries per city\n",
    "deliveries = np.array([5, 7, 4, 3, 5, 2, 1, 1])\n",
    "\n"
   ]
  },
  {
   "cell_type": "code",
   "execution_count": 11,
   "metadata": {},
   "outputs": [],
   "source": [
    "# creating a list for towns\n",
    "town = [\n",
    "    'Willowford',\n",
    "    'Otter Creek',\n",
    "    'Springfield',\n",
    "    'Arlingport',\n",
    "    'Spadewood',\n",
    "    'Goldvale',\n",
    "    'Bison Flats',\n",
    "    'Bison Hills',\n",
    "]\n",
    "\n"
   ]
  },
  {
   "cell_type": "code",
   "execution_count": 12,
   "metadata": {},
   "outputs": [],
   "source": [
    "# Creating a dataframe with locations and number of deliveries\n",
    "data = pd.DataFrame(\n",
    "    {\n",
    "        'x_coordinates_km': x_axis,\n",
    "        'y_coordinates_km': y_axis,\n",
    "        'Deliveries': deliveries,\n",
    "    },\n",
    "    index=town,\n",
    ")\n",
    "\n"
   ]
  },
  {
   "cell_type": "code",
   "execution_count": 13,
   "metadata": {},
   "outputs": [],
   "source": [
    "# creating vectors for the coordinates\n",
    "vectors = data[['x_coordinates_km', 'y_coordinates_km']].values\n",
    "\n"
   ]
  },
  {
   "cell_type": "code",
   "execution_count": 14,
   "metadata": {},
   "outputs": [],
   "source": [
    "# Calculating euclidean distances between cities\n",
    "distances = []\n",
    "for town_from in range(len(town)):\n",
    "    row = []\n",
    "    for town_to in range(len(town)):\n",
    "        value = distance.euclidean(vectors[town_from], vectors[town_to])\n",
    "        row.append(value)\n",
    "    distances.append(row)\n",
    "\n"
   ]
  },
  {
   "cell_type": "code",
   "execution_count": 15,
   "metadata": {},
   "outputs": [
    {
     "name": "stdout",
     "output_type": "stream",
     "text": [
      "               Distance\n",
      "Willowford   475.734656\n",
      "Otter Creek  409.688787\n",
      "Springfield  454.776713\n",
      "Arlingport   701.242510\n",
      "Spadewood    334.564924\n",
      "Goldvale     513.067627\n",
      "Bison Flats  459.977717\n",
      "Bison Hills  577.345345\n",
      "\n"
     ]
    }
   ],
   "source": [
    "# calculating total delivery distances (to and from each delivery location)\n",
    "deliveries_in_week = []\n",
    "for i in range(len(town)):\n",
    "    distance =  2 * np.dot(np.array(distances[i]), deliveries)\n",
    "    deliveries_in_week.append(distance)\n",
    "\n",
    "deliveries_in_week_df = pd.DataFrame(\n",
    "    {'Distance': deliveries_in_week}, index=town\n",
    ")\n",
    "\n",
    "print(deliveries_in_week_df)\n",
    "\n",
    "print()\n",
    "\n"
   ]
  },
  {
   "cell_type": "code",
   "execution_count": 16,
   "metadata": {},
   "outputs": [
    {
     "name": "stdout",
     "output_type": "stream",
     "text": [
      "Warehouse City: Spadewood\n"
     ]
    }
   ],
   "source": [
    "# Identifying the best city to implement the warehouse\n",
    "print('Warehouse City:', \n",
    "      deliveries_in_week_df[\"Distance\"].idxmin())"
   ]
  }
 ],
 "metadata": {
  "kernelspec": {
   "display_name": "Python 3",
   "language": "python",
   "name": "python3"
  },
  "language_info": {
   "codemirror_mode": {
    "name": "ipython",
    "version": 3
   },
   "file_extension": ".py",
   "mimetype": "text/x-python",
   "name": "python",
   "nbconvert_exporter": "python",
   "pygments_lexer": "ipython3",
   "version": "3.12.3"
  }
 },
 "nbformat": 4,
 "nbformat_minor": 2
}
